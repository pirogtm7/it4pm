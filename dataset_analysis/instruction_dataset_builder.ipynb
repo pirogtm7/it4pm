{
 "cells": [
  {
   "cell_type": "code",
   "execution_count": 1,
   "metadata": {},
   "outputs": [],
   "source": [
    "import os\n",
    "os.chdir(\"..\")"
   ]
  },
  {
   "cell_type": "code",
   "execution_count": 2,
   "metadata": {},
   "outputs": [],
   "source": [
    "import pandas as pd\n",
    "import random\n",
    "import importlib\n",
    "from instruction_tuning_util import get_formatted_prompt, get_formatted_answer, generate_inverted_answers\n",
    "from data_loading_util import (\n",
    "    load_trace_data, load_pairs_data, load_next_activity_data, load_discovery_data\n",
    ")\n",
    "from datasets import concatenate_datasets\n",
    "\n",
    "# Load prompt templates\n",
    "prompts = importlib.import_module(\"prompts.prompts_all\")"
   ]
  },
  {
   "cell_type": "code",
   "execution_count": null,
   "metadata": {},
   "outputs": [],
   "source": [
    "# Task and dataset configurations\n",
    "TASK_CONFIG = {\n",
    "    \"A-SAD\": {\"loader\": load_pairs_data, \"task_name\": \"activity_anomaly\"},\n",
    "    \"T-SAD\": {\"loader\": load_trace_data, \"task_name\": \"trace_anomaly\"},\n",
    "    \"S-NAP\": {\"loader\": load_next_activity_data, \"task_name\": \"next_activity\"},\n",
    "    \"S-DFD\": {\"loader\": load_discovery_data, \"task_name\": \"dfg\", \"subset_key\": \"dfg\"},\n",
    "    \"S-PTD\": {\"loader\": load_discovery_data, \"task_name\": \"process_tree\", \"subset_key\": \"pt\"},\n",
    "}\n",
    "\n",
    "# Table-based instruction type probabilities\n",
    "PROBABILITIES = {\n",
    "    \"A-SAD\": {\"Normal\": 0.8, \"Neg.Inv.\": 0.1, \"Pos.Inv.\": 0.1},\n",
    "    \"T-SAD\": {\"Normal\": 0.8, \"Neg.Inv.\": 0.1, \"Pos.Inv.\": 0.1},\n",
    "    \"S-NAP\": {\"Normal\": 0.8, \"Neg.Inv.\": 0.1, \"Pos.Inv.\": 0.1},\n",
    "    \"S-DFD\": {\"Normal\": 0.8, \"Neg.Inv.\": 0.2, \"Pos.Inv.\": 0.0},\n",
    "    \"S-PTD\": {\"Normal\": 1.0, \"Neg.Inv.\": 0.0, \"Pos.Inv.\": 0.0},\n",
    "}\n",
    "\n",
    "def select_prompt(task_name, gold_answer, prob_cfg, rng):\n",
    "    instruction_type = \"normal\"\n",
    "    template_list = prompts.TASK_PROMPTS_VARIANTS[task_name]\n",
    "\n",
    "    if task_name in {\"trace_anomaly\", \"activity_anomaly\"}:\n",
    "        if gold_answer == \"False\" and rng.random() < 0.2:\n",
    "            instruction_type = \"neg_inv\"\n",
    "            template_list = prompts.TASK_PROMPTS_INVERTED_NEGATIVE[task_name]\n",
    "        elif gold_answer == \"True\" and rng.random() < 0.2:\n",
    "            instruction_type = \"pos_inv\"\n",
    "            template_list = prompts.TASK_PROMPTS_INVERTED_POSITIVE[task_name]\n",
    "    else:\n",
    "        r = rng.random()\n",
    "        if r < prob_cfg[\"Neg.Inv.\"]:\n",
    "            instruction_type = \"neg_inv\"\n",
    "            template_list = prompts.TASK_PROMPTS_INVERTED_NEGATIVE[task_name]\n",
    "        elif r < prob_cfg[\"Neg.Inv.\"] + prob_cfg[\"Pos.Inv.\"]:\n",
    "            instruction_type = \"pos_inv\"\n",
    "            template_list = prompts.TASK_PROMPTS_INVERTED_POSITIVE[task_name]\n",
    "\n",
    "    index = rng.randrange(len(template_list))\n",
    "    return template_list[index], instruction_type, index\n",
    "\n",
    "\n",
    "def process_task(task_key, config, prob_cfg, rng):\n",
    "    print(f\"Processing {task_key}...\")\n",
    "    loader = config[\"loader\"]\n",
    "    task_name = config[\"task_name\"]\n",
    "    subset_key = config.get(\"subset_key\")\n",
    "\n",
    "    # Load all splits and concatenate\n",
    "    train, val, test = loader()\n",
    "    full_ds = concatenate_datasets([train, val, test])\n",
    "\n",
    "    if subset_key:\n",
    "        full_ds = full_ds.filter(lambda x: x[subset_key] is not None)\n",
    "        full_ds = full_ds.add_column(\"gold_answer\", full_ds[subset_key])\n",
    "    elif \"ds_labels\" in full_ds.column_names:\n",
    "        full_ds = full_ds.rename_column(\"ds_labels\", \"gold_answer\")\n",
    "    elif \"next\" in full_ds.column_names:\n",
    "        full_ds = full_ds.rename_column(\"next\", \"gold_answer\")\n",
    "\n",
    "    full_ds = full_ds.add_column(\"task_name\", [task_name] * len(full_ds))\n",
    "\n",
    "    rows = []\n",
    "\n",
    "    for example in full_ds:\n",
    "        example[\"gold_answer\"] = str(example[\"gold_answer\"])\n",
    "        template, instruction_type, variant_index = select_prompt(task_name, example[\"gold_answer\"], prob_cfg, rng)\n",
    "\n",
    "        if instruction_type != \"normal\":\n",
    "            example = generate_inverted_answers(example, task_name, rng)\n",
    "\n",
    "        prompt_text = get_formatted_prompt(example, template[\"template\"])\n",
    "        answer_text = get_formatted_answer(example, template[\"answer\"])\n",
    "\n",
    "        # Common fields\n",
    "        new_row = {\n",
    "            \"id\": example[\"id\"],\n",
    "            \"unique_activities\": example[\"unique_activities\"],\n",
    "            \"instruction\": prompts.GENERAL_INTRO + \"\\n\\n\" + prompt_text,\n",
    "            \"output\": answer_text,\n",
    "            \"instruction_type\": instruction_type,\n",
    "            \"variant\": variant_index + 1,\n",
    "        }\n",
    "\n",
    "        # Add all fields for other tasks\n",
    "        if task_name == \"activity_anomaly\":\n",
    "            new_row[\"eventually_follows\"] = example.get(\"eventually_follows\")\n",
    "            new_row[\"is_valid\"] = example.get(\"gold_answer\")\n",
    "        elif task_name == \"trace_anomaly\":\n",
    "            new_row[\"trace\"] = example.get(\"trace\")\n",
    "            new_row[\"is_valid\"] = example.get(\"gold_answer\")\n",
    "        elif task_name == \"next_activity\":\n",
    "            new_row[\"prefix\"] = example.get(\"prefix\")\n",
    "            new_row[\"trace\"] = example.get(\"trace\")\n",
    "            new_row[\"next\"] = example.get(\"gold_answer\")\n",
    "        elif task_name == \"dfg\":\n",
    "            new_row[\"dfg\"] = example.get(\"dfg\")\n",
    "        elif task_name == \"process_tree\":\n",
    "            new_row[\"pt\"] = example.get(\"pt\")\n",
    "\n",
    "        rows.append(new_row)\n",
    "\n",
    "    output_dir = \"datasets/instructions\"\n",
    "    os.makedirs(output_dir, exist_ok=True)\n",
    "    output_path = os.path.join(output_dir, f\"{task_key}_instructions.csv\")\n",
    "\n",
    "    df = pd.DataFrame(rows)\n",
    "    df.to_csv(output_path, index=False)\n",
    "    print(f\"Saved: {task_key}_instructions.csv\")"
   ]
  },
  {
   "cell_type": "code",
   "execution_count": null,
   "metadata": {},
   "outputs": [],
   "source": [
    "# Run processing for all tasks\n",
    "rng = random.Random(42)\n",
    "\n",
    "for task_id, cfg in TASK_CONFIG.items():\n",
    "    process_task(task_id, cfg, PROBABILITIES[task_id])"
   ]
  },
  {
   "cell_type": "code",
   "execution_count": 23,
   "metadata": {},
   "outputs": [
    {
     "name": "stdout",
     "output_type": "stream",
     "text": [
      "Processing S-PTD...\n"
     ]
    },
    {
     "data": {
      "application/vnd.jupyter.widget-view+json": {
       "model_id": "a5c82832a22d45988e411ddb51a0c2be",
       "version_major": 2,
       "version_minor": 0
      },
      "text/plain": [
       "Filter:   0%|          | 0/15580 [00:00<?, ? examples/s]"
      ]
     },
     "metadata": {},
     "output_type": "display_data"
    },
    {
     "data": {
      "application/vnd.jupyter.widget-view+json": {
       "model_id": "cf60a26f32a246b98ec024b6afdf8d5a",
       "version_major": 2,
       "version_minor": 0
      },
      "text/plain": [
       "Flattening the indices:   0%|          | 0/15580 [00:00<?, ? examples/s]"
      ]
     },
     "metadata": {},
     "output_type": "display_data"
    },
    {
     "name": "stdout",
     "output_type": "stream",
     "text": [
      "Saved: S-PTD_instructions.csv\n"
     ]
    }
   ],
   "source": [
    "# or per task\n",
    "rng = random.Random(42)\n",
    "\n",
    "task_id = \"S-PTD\"\n",
    "process_task(task_id, TASK_CONFIG[task_id], PROBABILITIES[task_id], rng)"
   ]
  }
 ],
 "metadata": {
  "kernelspec": {
   "display_name": "llms4pm_test",
   "language": "python",
   "name": "python3"
  },
  "language_info": {
   "codemirror_mode": {
    "name": "ipython",
    "version": 3
   },
   "file_extension": ".py",
   "mimetype": "text/x-python",
   "name": "python",
   "nbconvert_exporter": "python",
   "pygments_lexer": "ipython3",
   "version": "3.10.12"
  }
 },
 "nbformat": 4,
 "nbformat_minor": 2
}
